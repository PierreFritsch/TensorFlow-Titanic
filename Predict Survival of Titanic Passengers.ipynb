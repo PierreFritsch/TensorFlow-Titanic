{
 "cells": [
  {
   "cell_type": "code",
   "execution_count": 1,
   "metadata": {},
   "outputs": [],
   "source": [
    "import numpy as np\n",
    "import pandas as pd\n",
    "import tensorflow as tf\n",
    "\n",
    "# make TensorFlow less verbose\n",
    "tf.logging.set_verbosity(tf.logging.ERROR)\n",
    "\n",
    "# read the dataset\n",
    "train_data = pd.read_csv(\"titanic_train.csv\")\n",
    "test_data = pd.read_csv(\"titanic_test.csv\")\n",
    "\n",
    "# drop unused columns\n",
    "UNUSED_COLUMNS = [\"Name\", \"Ticket\", \"Age\", \"Cabin\", \"Embarked\", \"Fare\"]\n",
    "train_data = train_data.drop(UNUSED_COLUMNS, axis=1)\n",
    "test_data = test_data.drop(UNUSED_COLUMNS, axis=1)"
   ]
  },
  {
   "cell_type": "code",
   "execution_count": 2,
   "metadata": {},
   "outputs": [
    {
     "name": "stdout",
     "output_type": "stream",
     "text": [
      "\n",
      "Test Accuracy: 0.820225\n",
      "\n"
     ]
    }
   ],
   "source": [
    "# sample 80% for train data\n",
    "train_set = train_data.sample(frac=0.8, replace=False, random_state=42)\n",
    "# the other 20% is reserved for cross validation\n",
    "cv_set = train_data.loc[ set(train_data.index) - set(train_set.index)]\n",
    "\n",
    "# define features\n",
    "sex_feature = tf.feature_column.categorical_column_with_vocabulary_list(\n",
    "    'Sex', ['female','male']\n",
    ")\n",
    "\n",
    "feature_columns = [ sex_feature ]\n",
    "\n",
    "estimator = tf.estimator.LinearClassifier(\n",
    "    feature_columns=feature_columns)\n",
    "\n",
    "# train input function\n",
    "train_input_fn = tf.estimator.inputs.pandas_input_fn(\n",
    "      x=train_set.drop('Survived', axis=1),\n",
    "      y=train_set.Survived,\n",
    "      num_epochs=None, # for training, use as many epochs as necessary\n",
    "      shuffle=True,\n",
    "      target_column='target',\n",
    ")\n",
    "\n",
    "cv_input_fn = tf.estimator.inputs.pandas_input_fn(\n",
    "      x=cv_set.drop('Survived', axis=1),\n",
    "      y=cv_set.Survived,\n",
    "      num_epochs=1, # only to score\n",
    "      shuffle=False\n",
    ")\n",
    "\n",
    "estimator.train(input_fn=train_input_fn, steps=10)\n",
    "\n",
    "scores = estimator.evaluate(input_fn=cv_input_fn)\n",
    "print(\"\\nTest Accuracy: {0:f}\\n\".format(scores['accuracy']))"
   ]
  },
  {
   "cell_type": "code",
   "execution_count": 3,
   "metadata": {},
   "outputs": [
    {
     "data": {
      "text/html": [
       "<div>\n",
       "<style scoped>\n",
       "    .dataframe tbody tr th:only-of-type {\n",
       "        vertical-align: middle;\n",
       "    }\n",
       "\n",
       "    .dataframe tbody tr th {\n",
       "        vertical-align: top;\n",
       "    }\n",
       "\n",
       "    .dataframe thead th {\n",
       "        text-align: right;\n",
       "    }\n",
       "</style>\n",
       "<table border=\"1\" class=\"dataframe\">\n",
       "  <thead>\n",
       "    <tr style=\"text-align: right;\">\n",
       "      <th></th>\n",
       "      <th>PassengerId</th>\n",
       "      <th>Survived</th>\n",
       "    </tr>\n",
       "  </thead>\n",
       "  <tbody>\n",
       "    <tr>\n",
       "      <th>0</th>\n",
       "      <td>892</td>\n",
       "      <td>0</td>\n",
       "    </tr>\n",
       "    <tr>\n",
       "      <th>1</th>\n",
       "      <td>893</td>\n",
       "      <td>1</td>\n",
       "    </tr>\n",
       "    <tr>\n",
       "      <th>2</th>\n",
       "      <td>894</td>\n",
       "      <td>0</td>\n",
       "    </tr>\n",
       "    <tr>\n",
       "      <th>3</th>\n",
       "      <td>895</td>\n",
       "      <td>0</td>\n",
       "    </tr>\n",
       "    <tr>\n",
       "      <th>4</th>\n",
       "      <td>896</td>\n",
       "      <td>1</td>\n",
       "    </tr>\n",
       "  </tbody>\n",
       "</table>\n",
       "</div>"
      ],
      "text/plain": [
       "   PassengerId  Survived\n",
       "0          892         0\n",
       "1          893         1\n",
       "2          894         0\n",
       "3          895         0\n",
       "4          896         1"
      ]
     },
     "execution_count": 3,
     "metadata": {},
     "output_type": "execute_result"
    }
   ],
   "source": [
    "test_input_fn = tf.estimator.inputs.pandas_input_fn(\n",
    "      x=test_data,\n",
    "      num_epochs=1, # only to predict\n",
    "      shuffle=False \n",
    ")\n",
    "\n",
    "predictions = list(estimator.predict(input_fn=test_input_fn))\n",
    "predicted_classes = [prediction['class_ids'][0] for prediction in predictions]\n",
    "evaluation = test_data['PassengerId'].copy().to_frame()\n",
    "evaluation[\"Survived\"] = predicted_classes\n",
    "evaluation.to_csv(\"evaluation_submission.csv\", index=False)\n",
    "evaluation.head()"
   ]
  },
  {
   "cell_type": "code",
   "execution_count": null,
   "metadata": {},
   "outputs": [],
   "source": []
  }
 ],
 "metadata": {
  "kernelspec": {
   "display_name": "Python 3",
   "language": "python",
   "name": "python3"
  },
  "language_info": {
   "codemirror_mode": {
    "name": "ipython",
    "version": 3
   },
   "file_extension": ".py",
   "mimetype": "text/x-python",
   "name": "python",
   "nbconvert_exporter": "python",
   "pygments_lexer": "ipython3",
   "version": "3.6.4"
  }
 },
 "nbformat": 4,
 "nbformat_minor": 2
}
